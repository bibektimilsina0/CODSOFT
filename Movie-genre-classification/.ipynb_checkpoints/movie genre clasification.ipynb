{
 "cells": [
  {
   "cell_type": "markdown",
   "id": "84dc7e31",
   "metadata": {},
   "source": [
    "# Importing Libraries\n"
   ]
  },
  {
   "cell_type": "code",
   "execution_count": 1,
   "id": "d5b38867",
   "metadata": {},
   "outputs": [],
   "source": [
    "import numpy as np\n",
    "import pandas as pd\n",
    "import matplotlib.pyplot as plt\n",
    "import seaborn as sb\n",
    "import sklearn\n",
    "from sklearn.feature_extraction.text import TfidfVectorizer\n",
    "from sklearn.naive_bayes import MultinomialNB\n",
    "from sklearn.metrics import *\n",
    "import re\n",
    "\n",
    "import string\n",
    "from sklearn.metrics import accuracy_score, classification_report"
   ]
  },
  {
   "cell_type": "markdown",
   "id": "046faa85",
   "metadata": {},
   "source": [
    "# Load Data\n"
   ]
  },
  {
   "cell_type": "code",
   "execution_count": 2,
   "id": "113af352",
   "metadata": {},
   "outputs": [
    {
     "name": "stderr",
     "output_type": "stream",
     "text": [
      "C:\\Users\\bibek\\AppData\\Local\\Temp\\ipykernel_14448\\2124978874.py:2: ParserWarning: Falling back to the 'python' engine because the 'c' engine does not support regex separators (separators > 1 char and different from '\\s+' are interpreted as regex); you can avoid this warning by specifying engine='python'.\n",
      "  data=pd.read_csv('./Genre Classification Dataset/train_data.txt',sep=':::',names=['Title', 'Genre', 'Description'])\n"
     ]
    },
    {
     "data": {
      "text/html": [
       "<div>\n",
       "<style scoped>\n",
       "    .dataframe tbody tr th:only-of-type {\n",
       "        vertical-align: middle;\n",
       "    }\n",
       "\n",
       "    .dataframe tbody tr th {\n",
       "        vertical-align: top;\n",
       "    }\n",
       "\n",
       "    .dataframe thead th {\n",
       "        text-align: right;\n",
       "    }\n",
       "</style>\n",
       "<table border=\"1\" class=\"dataframe\">\n",
       "  <thead>\n",
       "    <tr style=\"text-align: right;\">\n",
       "      <th></th>\n",
       "      <th>Title</th>\n",
       "      <th>Genre</th>\n",
       "      <th>Description</th>\n",
       "    </tr>\n",
       "  </thead>\n",
       "  <tbody>\n",
       "    <tr>\n",
       "      <th>1</th>\n",
       "      <td>Oscar et la dame rose (2009)</td>\n",
       "      <td>drama</td>\n",
       "      <td>Listening in to a conversation between his do...</td>\n",
       "    </tr>\n",
       "    <tr>\n",
       "      <th>2</th>\n",
       "      <td>Cupid (1997)</td>\n",
       "      <td>thriller</td>\n",
       "      <td>A brother and sister with a past incestuous r...</td>\n",
       "    </tr>\n",
       "    <tr>\n",
       "      <th>3</th>\n",
       "      <td>Young, Wild and Wonderful (1980)</td>\n",
       "      <td>adult</td>\n",
       "      <td>As the bus empties the students for their fie...</td>\n",
       "    </tr>\n",
       "    <tr>\n",
       "      <th>4</th>\n",
       "      <td>The Secret Sin (1915)</td>\n",
       "      <td>drama</td>\n",
       "      <td>To help their unemployed father make ends mee...</td>\n",
       "    </tr>\n",
       "    <tr>\n",
       "      <th>5</th>\n",
       "      <td>The Unrecovered (2007)</td>\n",
       "      <td>drama</td>\n",
       "      <td>The film's title refers not only to the un-re...</td>\n",
       "    </tr>\n",
       "    <tr>\n",
       "      <th>6</th>\n",
       "      <td>Quality Control (2011)</td>\n",
       "      <td>documentary</td>\n",
       "      <td>Quality Control consists of a series of 16mm ...</td>\n",
       "    </tr>\n",
       "    <tr>\n",
       "      <th>7</th>\n",
       "      <td>\"Pink Slip\" (2009)</td>\n",
       "      <td>comedy</td>\n",
       "      <td>In tough economic times Max and Joey have all...</td>\n",
       "    </tr>\n",
       "    <tr>\n",
       "      <th>8</th>\n",
       "      <td>One Step Away (1985)</td>\n",
       "      <td>crime</td>\n",
       "      <td>Ron Petrie (Keanu Reeves) is a troubled teen ...</td>\n",
       "    </tr>\n",
       "    <tr>\n",
       "      <th>9</th>\n",
       "      <td>\"Desperate Hours\" (2016)</td>\n",
       "      <td>reality-tv</td>\n",
       "      <td>A sudden calamitous event, causing great loss...</td>\n",
       "    </tr>\n",
       "    <tr>\n",
       "      <th>10</th>\n",
       "      <td>Spirits (2014/I)</td>\n",
       "      <td>horror</td>\n",
       "      <td>Four high school students embark on a terrify...</td>\n",
       "    </tr>\n",
       "  </tbody>\n",
       "</table>\n",
       "</div>"
      ],
      "text/plain": [
       "                                 Title          Genre  \\\n",
       "1        Oscar et la dame rose (2009)          drama    \n",
       "2                        Cupid (1997)       thriller    \n",
       "3    Young, Wild and Wonderful (1980)          adult    \n",
       "4               The Secret Sin (1915)          drama    \n",
       "5              The Unrecovered (2007)          drama    \n",
       "6              Quality Control (2011)    documentary    \n",
       "7                  \"Pink Slip\" (2009)         comedy    \n",
       "8                One Step Away (1985)          crime    \n",
       "9            \"Desperate Hours\" (2016)     reality-tv    \n",
       "10                   Spirits (2014/I)         horror    \n",
       "\n",
       "                                          Description  \n",
       "1    Listening in to a conversation between his do...  \n",
       "2    A brother and sister with a past incestuous r...  \n",
       "3    As the bus empties the students for their fie...  \n",
       "4    To help their unemployed father make ends mee...  \n",
       "5    The film's title refers not only to the un-re...  \n",
       "6    Quality Control consists of a series of 16mm ...  \n",
       "7    In tough economic times Max and Joey have all...  \n",
       "8    Ron Petrie (Keanu Reeves) is a troubled teen ...  \n",
       "9    A sudden calamitous event, causing great loss...  \n",
       "10   Four high school students embark on a terrify...  "
      ]
     },
     "execution_count": 2,
     "metadata": {},
     "output_type": "execute_result"
    }
   ],
   "source": [
    "#import train_data\n",
    "data=pd.read_csv('./Genre Classification Dataset/train_data.txt',sep=':::',names=['Title', 'Genre', 'Description'])\n",
    "data.head(10)"
   ]
  },
  {
   "cell_type": "markdown",
   "id": "3e7a2c3f",
   "metadata": {},
   "source": [
    "# Analysis"
   ]
  },
  {
   "cell_type": "code",
   "execution_count": 3,
   "id": "9b8c48e1",
   "metadata": {},
   "outputs": [
    {
     "data": {
      "text/plain": [
       "(54214, 3)"
      ]
     },
     "execution_count": 3,
     "metadata": {},
     "output_type": "execute_result"
    }
   ],
   "source": [
    "#about train data\n",
    "data.shape"
   ]
  },
  {
   "cell_type": "code",
   "execution_count": 4,
   "id": "84c19be0",
   "metadata": {},
   "outputs": [
    {
     "data": {
      "text/html": [
       "<div>\n",
       "<style scoped>\n",
       "    .dataframe tbody tr th:only-of-type {\n",
       "        vertical-align: middle;\n",
       "    }\n",
       "\n",
       "    .dataframe tbody tr th {\n",
       "        vertical-align: top;\n",
       "    }\n",
       "\n",
       "    .dataframe thead th {\n",
       "        text-align: right;\n",
       "    }\n",
       "</style>\n",
       "<table border=\"1\" class=\"dataframe\">\n",
       "  <thead>\n",
       "    <tr style=\"text-align: right;\">\n",
       "      <th></th>\n",
       "      <th>Title</th>\n",
       "      <th>Genre</th>\n",
       "      <th>Description</th>\n",
       "    </tr>\n",
       "  </thead>\n",
       "  <tbody>\n",
       "    <tr>\n",
       "      <th>count</th>\n",
       "      <td>54214</td>\n",
       "      <td>54214</td>\n",
       "      <td>54214</td>\n",
       "    </tr>\n",
       "    <tr>\n",
       "      <th>unique</th>\n",
       "      <td>54214</td>\n",
       "      <td>27</td>\n",
       "      <td>54086</td>\n",
       "    </tr>\n",
       "    <tr>\n",
       "      <th>top</th>\n",
       "      <td>Oscar et la dame rose (2009)</td>\n",
       "      <td>drama</td>\n",
       "      <td>Grammy - music award of the American academy ...</td>\n",
       "    </tr>\n",
       "    <tr>\n",
       "      <th>freq</th>\n",
       "      <td>1</td>\n",
       "      <td>13613</td>\n",
       "      <td>12</td>\n",
       "    </tr>\n",
       "  </tbody>\n",
       "</table>\n",
       "</div>"
      ],
      "text/plain": [
       "                                 Title    Genre  \\\n",
       "count                            54214    54214   \n",
       "unique                           54214       27   \n",
       "top      Oscar et la dame rose (2009)    drama    \n",
       "freq                                 1    13613   \n",
       "\n",
       "                                              Description  \n",
       "count                                               54214  \n",
       "unique                                              54086  \n",
       "top      Grammy - music award of the American academy ...  \n",
       "freq                                                   12  "
      ]
     },
     "execution_count": 4,
     "metadata": {},
     "output_type": "execute_result"
    }
   ],
   "source": [
    "data.describe()"
   ]
  },
  {
   "cell_type": "code",
   "execution_count": 5,
   "id": "d32ab1c1",
   "metadata": {},
   "outputs": [
    {
     "data": {
      "text/plain": [
       "Title          0\n",
       "Genre          0\n",
       "Description    0\n",
       "dtype: int64"
      ]
     },
     "execution_count": 5,
     "metadata": {},
     "output_type": "execute_result"
    }
   ],
   "source": [
    "#checking null value\n",
    "data.isnull().sum()"
   ]
  },
  {
   "cell_type": "code",
   "execution_count": 6,
   "id": "86e47238",
   "metadata": {},
   "outputs": [],
   "source": [
    "#there is no null value, no need for further processing"
   ]
  },
  {
   "cell_type": "code",
   "execution_count": 7,
   "id": "505fd0e9",
   "metadata": {},
   "outputs": [
    {
     "name": "stdout",
     "output_type": "stream",
     "text": [
      "False\n"
     ]
    }
   ],
   "source": [
    "#duplicate value cheacking\n",
    "dup_data=data.duplicated().any()\n",
    "print(dup_data)"
   ]
  },
  {
   "cell_type": "code",
   "execution_count": 8,
   "id": "a3fc9c0c",
   "metadata": {},
   "outputs": [
    {
     "name": "stdout",
     "output_type": "stream",
     "text": [
      "1               drama \n",
      "2            thriller \n",
      "3               adult \n",
      "4               drama \n",
      "5               drama \n",
      "             ...      \n",
      "54210          comedy \n",
      "54211          horror \n",
      "54212     documentary \n",
      "54213          comedy \n",
      "54214         history \n",
      "Name: Genre, Length: 54214, dtype: object\n"
     ]
    }
   ],
   "source": [
    "#graphical representation\n",
    "genre=data['Genre']\n",
    "print(genre)"
   ]
  },
  {
   "cell_type": "code",
   "execution_count": 9,
   "id": "1199d58b",
   "metadata": {},
   "outputs": [
    {
     "name": "stdout",
     "output_type": "stream",
     "text": [
      "Genre\n",
      " drama           13613\n",
      " documentary     13096\n",
      " comedy           7447\n",
      " short            5073\n",
      " horror           2204\n",
      " thriller         1591\n",
      " action           1315\n",
      " western          1032\n",
      " reality-tv        884\n",
      " family            784\n",
      " adventure         775\n",
      " music             731\n",
      " romance           672\n",
      " sci-fi            647\n",
      " adult             590\n",
      " crime             505\n",
      " animation         498\n",
      " sport             432\n",
      " talk-show         391\n",
      " fantasy           323\n",
      " mystery           319\n",
      " musical           277\n",
      " biography         265\n",
      " history           243\n",
      " game-show         194\n",
      " news              181\n",
      " war               132\n",
      "Name: count, dtype: int64\n"
     ]
    }
   ],
   "source": [
    "\n",
    "genres = data['Genre'].value_counts()\n",
    "print(genres)"
   ]
  },
  {
   "cell_type": "code",
   "execution_count": 10,
   "id": "8dc2a967",
   "metadata": {},
   "outputs": [
    {
     "data": {
      "image/png": "[encoded data removed]",
      "text/plain": [
       "<Figure size 3000x1000 with 1 Axes>"
      ]
     },
     "metadata": {},
     "output_type": "display_data"
    }
   ],
   "source": [
    "plt.figure(figsize=(30,10))\n",
    "sb.barplot(x=genres.index, y=genres, palette=\"Set1\", hue=genres,width=10)\n",
    "plt.title(\"Genres distribution\", fontsize=30, c='r')\n",
    "plt.xlabel(\"Genres\", fontsize=24)\n",
    "plt.ylabel(\"Count\", fontsize=24)\n",
    "plt.show()"
   ]
  },
  {
   "cell_type": "markdown",
   "id": "029bff3a",
   "metadata": {},
   "source": [
    "# preprocessing "
   ]
  },
  {
   "cell_type": "code",
   "execution_count": 11,
   "id": "b13b8933",
   "metadata": {},
   "outputs": [],
   "source": [
    "vectorizer=TfidfVectorizer(stop_words='english')"
   ]
  },
  {
   "cell_type": "code",
   "execution_count": 12,
   "id": "1789b85c",
   "metadata": {},
   "outputs": [
    {
     "name": "stdout",
     "output_type": "stream",
     "text": [
      "frozenset({'but', 'done', 'indeed', 'thin', 'amongst', 'us', 'yours', 'except', 'see', 'not', 'forty', 'against', 'hereafter', 'ltd', 'its', 'have', 'everyone', 'above', 'both', 'with', 'as', 'hasnt', 'back', 'yourselves', 'than', 'onto', 'name', 'among', 'also', 'then', 'together', 'nowhere', 'beside', 'somehow', 'seem', 'such', 'whatever', 'wherever', 'sincere', 'found', 'latter', 'ever', 'became', 'toward', 'via', 'whereafter', 'former', 'everywhere', 'either', 'every', 'none', 'myself', 'more', 'only', 'beyond', 'ourselves', 'there', 'hers', 'since', 'amoungst', 'our', 'four', 'bill', 'six', 'whoever', 'become', 'etc', 'someone', 'nevertheless', 'fifty', 'my', 'made', 'first', 'he', 'be', 'himself', 'even', 'had', 'thereafter', 'therein', 'throughout', 'on', 'third', 'these', 'at', 'cry', 'two', 'we', 'perhaps', 'thence', 'through', 'wherein', 'empty', 'eight', 'many', 'rather', 'nine', 'nor', 'whenever', 'twelve', 'this', 'meanwhile', 'three', 'was', 'go', 'otherwise', 'once', 'must', 'well', 'fill', 'last', 'often', 'itself', 'though', 'con', 'something', 'much', 'front', 'describe', 'that', 'anywhere', 'until', 'beforehand', 'within', 'her', 'upon', 'system', 'are', 'take', 'towards', 'yet', 'please', 'however', 'by', 'other', 'give', 'co', 'those', 'although', 'an', 'below', 'they', 'whereas', 'it', 'again', 'a', 'during', 'being', 'part', 'would', 'ours', 'how', 'sometime', 'least', 'almost', 'thereupon', 'up', 'most', 'too', 'between', 'been', 'do', 'your', 'another', 'move', 'twenty', 'herein', 'after', 'noone', 'side', 'seems', 'very', 'full', 'thereby', 'before', 'seeming', 'whereupon', 'whose', 'un', 'has', 'may', 'thus', 'were', 'formerly', 'sometimes', 'top', 'never', 'or', 'should', 'thru', 'serious', 'what', 'find', 'eleven', 'whether', 'couldnt', 'from', 'herself', 'becoming', 'mostly', 'them', 'enough', 'which', 'eg', 'anyhow', 'might', 'therefore', 'i', 'elsewhere', 'always', 're', 'get', 'next', 'in', 'fifteen', 'his', 'hundred', 'whither', 'whole', 'to', 'while', 'whom', 'neither', 'nothing', 'interest', 'whereby', 'anyone', 'thick', 'behind', 'along', 'less', 'per', 'call', 'somewhere', 'about', 'same', 'afterwards', 'so', 'show', 'when', 'cannot', 'here', 'is', 'who', 'you', 'around', 'no', 'if', 'of', 'keep', 'still', 'besides', 'whence', 'own', 'off', 'their', 'inc', 'seemed', 'me', 'sixty', 'else', 'five', 'the', 'and', 'detail', 'themselves', 'anyway', 'namely', 'hereby', 'am', 'down', 'ten', 'out', 'for', 'all', 'without', 'few', 'him', 'alone', 'each', 'could', 'already', 'because', 'nobody', 'others', 'put', 'why', 'several', 'one', 'everything', 'over', 'cant', 'fire', 'where', 'hereupon', 'further', 'due', 'anything', 'mill', 'bottom', 'amount', 'de', 'latterly', 'now', 'under', 'yourself', 'any', 'hence', 'into', 'mine', 'across', 'moreover', 'becomes', 'will', 'some', 'she', 'can', 'ie'})\n"
     ]
    }
   ],
   "source": [
    "stop_words=vectorizer.get_stop_words()\n",
    "print(stop_words)"
   ]
  },
  {
   "cell_type": "code",
   "execution_count": 13,
   "id": "10462b5c",
   "metadata": {},
   "outputs": [],
   "source": [
    "#taking  description\n",
    "description=data['Description'][0:2]\n",
    "type(description)\n",
    "tokens=vectorizer.fit_transform(description)\n"
   ]
  },
  {
   "cell_type": "code",
   "execution_count": 14,
   "id": "be1f333e",
   "metadata": {},
   "outputs": [
    {
     "name": "stdout",
     "output_type": "stream",
     "text": [
      "['10' 'allow' 'approaches' 'bacon' 'blue' 'brother' 'charm' 'childhood'\n",
      " 'christmas' 'close' 'company' 'conversation' 'corn' 'courage' 'current'\n",
      " 'doctor' 'einstein' 'experiences' 'fantastical' 'friends' 'furious'\n",
      " 'hospital' 'imagination' 'incestuous' 'lady' 'learns' 'life' 'listening'\n",
      " 'live' 'love' 'meets' 'murderous' 'murders' 'old' 'oscar' 'parents'\n",
      " 'past' 'peggy' 'pink' 'pop' 'professional' 'refuses' 'reject'\n",
      " 'relationship' 'rose' 'sister' 'speak' 'stairs' 'straight' 'sweetheart'\n",
      " 'talking' 'tell' 'uses' 'weeks' 'wit' 'women' 'wrestler' 'year']\n"
     ]
    }
   ],
   "source": [
    "print(vectorizer.get_feature_names_out())\n"
   ]
  },
  {
   "cell_type": "code",
   "execution_count": 15,
   "id": "cdf45787",
   "metadata": {},
   "outputs": [
    {
     "name": "stdout",
     "output_type": "stream",
     "text": [
      "{'listening': 27, 'conversation': 11, 'doctor': 15, 'parents': 35, '10': 0, 'year': 57, 'old': 33, 'oscar': 34, 'learns': 25, 'courage': 13, 'tell': 51, 'weeks': 53, 'live': 28, 'furious': 20, 'refuses': 41, 'speak': 46, 'straight': 48, 'talking': 50, 'rose': 44, 'lady': 24, 'pink': 38, 'meets': 30, 'hospital': 21, 'stairs': 47, 'christmas': 8, 'approaches': 2, 'uses': 52, 'fantastical': 18, 'experiences': 17, 'professional': 40, 'wrestler': 56, 'imagination': 22, 'wit': 54, 'charm': 6, 'allow': 1, 'life': 26, 'love': 29, 'company': 10, 'friends': 19, 'pop': 39, 'corn': 12, 'einstein': 16, 'bacon': 3, 'childhood': 7, 'sweetheart': 49, 'peggy': 37, 'blue': 4, 'brother': 5, 'sister': 45, 'past': 36, 'incestuous': 23, 'relationship': 43, 'current': 14, 'murderous': 31, 'murders': 32, 'women': 55, 'reject': 42, 'close': 9}\n"
     ]
    }
   ],
   "source": [
    "print(vectorizer.vocabulary_)\n"
   ]
  },
  {
   "cell_type": "code",
   "execution_count": 16,
   "id": "17ec186e",
   "metadata": {},
   "outputs": [],
   "source": [
    "#cleaning process\n",
    "def clean_description(description):\n",
    "    # Remove URLs\n",
    "    description = re.sub(r'http\\S+', '', description)\n",
    "    # Remove punctuations\n",
    "    description = re.sub(f'[{string.punctuation}]','',description)\n",
    "    # Remove numbers\n",
    "    description = re.sub(f'[{string.digits}]','',description)\n",
    "    # Remove single charachters \n",
    "    description = re.sub(r'\\s+[a-zA-Z]\\s+', ' ', description)\n",
    "    #remove stop_words\n",
    "    description = [word for word in description.split() if word.lower() not in stop_words]\n",
    "    description = ' '.join(description)\n",
    "    \n",
    "    return description"
   ]
  },
  {
   "cell_type": "code",
   "execution_count": 17,
   "id": "927b94eb",
   "metadata": {},
   "outputs": [
    {
     "data": {
      "text/html": [
       "<div>\n",
       "<style scoped>\n",
       "    .dataframe tbody tr th:only-of-type {\n",
       "        vertical-align: middle;\n",
       "    }\n",
       "\n",
       "    .dataframe tbody tr th {\n",
       "        vertical-align: top;\n",
       "    }\n",
       "\n",
       "    .dataframe thead th {\n",
       "        text-align: right;\n",
       "    }\n",
       "</style>\n",
       "<table border=\"1\" class=\"dataframe\">\n",
       "  <thead>\n",
       "    <tr style=\"text-align: right;\">\n",
       "      <th></th>\n",
       "      <th>Title</th>\n",
       "      <th>Genre</th>\n",
       "      <th>Description</th>\n",
       "      <th>Clean_Desc</th>\n",
       "    </tr>\n",
       "  </thead>\n",
       "  <tbody>\n",
       "    <tr>\n",
       "      <th>1</th>\n",
       "      <td>Oscar et la dame rose (2009)</td>\n",
       "      <td>drama</td>\n",
       "      <td>Listening in to a conversation between his do...</td>\n",
       "      <td>Listening conversation doctor parents yearold ...</td>\n",
       "    </tr>\n",
       "    <tr>\n",
       "      <th>2</th>\n",
       "      <td>Cupid (1997)</td>\n",
       "      <td>thriller</td>\n",
       "      <td>A brother and sister with a past incestuous r...</td>\n",
       "      <td>brother sister past incestuous relationship cu...</td>\n",
       "    </tr>\n",
       "    <tr>\n",
       "      <th>3</th>\n",
       "      <td>Young, Wild and Wonderful (1980)</td>\n",
       "      <td>adult</td>\n",
       "      <td>As the bus empties the students for their fie...</td>\n",
       "      <td>bus empties students field trip Museum Natural...</td>\n",
       "    </tr>\n",
       "    <tr>\n",
       "      <th>4</th>\n",
       "      <td>The Secret Sin (1915)</td>\n",
       "      <td>drama</td>\n",
       "      <td>To help their unemployed father make ends mee...</td>\n",
       "      <td>help unemployed father make ends meet Edith tw...</td>\n",
       "    </tr>\n",
       "    <tr>\n",
       "      <th>5</th>\n",
       "      <td>The Unrecovered (2007)</td>\n",
       "      <td>drama</td>\n",
       "      <td>The film's title refers not only to the un-re...</td>\n",
       "      <td>films title refers unrecovered bodies ground z...</td>\n",
       "    </tr>\n",
       "  </tbody>\n",
       "</table>\n",
       "</div>"
      ],
      "text/plain": [
       "                                Title       Genre  \\\n",
       "1       Oscar et la dame rose (2009)       drama    \n",
       "2                       Cupid (1997)    thriller    \n",
       "3   Young, Wild and Wonderful (1980)       adult    \n",
       "4              The Secret Sin (1915)       drama    \n",
       "5             The Unrecovered (2007)       drama    \n",
       "\n",
       "                                         Description  \\\n",
       "1   Listening in to a conversation between his do...   \n",
       "2   A brother and sister with a past incestuous r...   \n",
       "3   As the bus empties the students for their fie...   \n",
       "4   To help their unemployed father make ends mee...   \n",
       "5   The film's title refers not only to the un-re...   \n",
       "\n",
       "                                          Clean_Desc  \n",
       "1  Listening conversation doctor parents yearold ...  \n",
       "2  brother sister past incestuous relationship cu...  \n",
       "3  bus empties students field trip Museum Natural...  \n",
       "4  help unemployed father make ends meet Edith tw...  \n",
       "5  films title refers unrecovered bodies ground z...  "
      ]
     },
     "execution_count": 17,
     "metadata": {},
     "output_type": "execute_result"
    }
   ],
   "source": [
    "#clean all description\n",
    "data['Clean_Desc'] = data['Description'].apply(clean_description)\n",
    "data.head()"
   ]
  },
  {
   "cell_type": "code",
   "execution_count": 18,
   "id": "386af644",
   "metadata": {},
   "outputs": [],
   "source": [
    "#use TfidfVectorizer\n",
    "tfidf_vectorizer=TfidfVectorizer(lowercase=True,ngram_range=(1,1))\n",
    "\n",
    "x_train=tfidf_vectorizer.fit_transform(data[\"Clean_Desc\"])\n"
   ]
  },
  {
   "cell_type": "code",
   "execution_count": 19,
   "id": "77d5f726",
   "metadata": {},
   "outputs": [],
   "source": [
    "# training model"
   ]
  },
  {
   "cell_type": "code",
   "execution_count": 20,
   "id": "15f507d1",
   "metadata": {},
   "outputs": [
    {
     "name": "stdout",
     "output_type": "stream",
     "text": [
      "(54214, 146872)\n",
      "(54214,)\n",
      "1               drama \n",
      "2            thriller \n",
      "3               adult \n",
      "4               drama \n",
      "5               drama \n",
      "             ...      \n",
      "54210          comedy \n",
      "54211          horror \n",
      "54212     documentary \n",
      "54213          comedy \n",
      "54214         history \n",
      "Name: Genre, Length: 54214, dtype: object\n"
     ]
    }
   ],
   "source": [
    "print(x_train.shape)\n",
    "y_train = data['Genre']\n",
    "print(y_train.shape)\n",
    "print(y_train)"
   ]
  },
  {
   "cell_type": "markdown",
   "id": "09341c60",
   "metadata": {},
   "source": [
    "##getting test_data"
   ]
  },
  {
   "cell_type": "code",
   "execution_count": 22,
   "id": "68f370d7",
   "metadata": {},
   "outputs": [
    {
     "name": "stderr",
     "output_type": "stream",
     "text": [
      "C:\\Users\\bibek\\AppData\\Local\\Temp\\ipykernel_14448\\2636529257.py:2: ParserWarning: Falling back to the 'python' engine because the 'c' engine does not support regex separators (separators > 1 char and different from '\\s+' are interpreted as regex); you can avoid this warning by specifying engine='python'.\n",
      "  data_test=pd.read_csv('./Genre Classification Dataset/test_data.txt',sep=':::',names=['Title', 'Genre', 'Description'])\n"
     ]
    },
    {
     "data": {
      "text/html": [
       "<div>\n",
       "<style scoped>\n",
       "    .dataframe tbody tr th:only-of-type {\n",
       "        vertical-align: middle;\n",
       "    }\n",
       "\n",
       "    .dataframe tbody tr th {\n",
       "        vertical-align: top;\n",
       "    }\n",
       "\n",
       "    .dataframe thead th {\n",
       "        text-align: right;\n",
       "    }\n",
       "</style>\n",
       "<table border=\"1\" class=\"dataframe\">\n",
       "  <thead>\n",
       "    <tr style=\"text-align: right;\">\n",
       "      <th></th>\n",
       "      <th>Title</th>\n",
       "      <th>Genre</th>\n",
       "      <th>Description</th>\n",
       "    </tr>\n",
       "  </thead>\n",
       "  <tbody>\n",
       "    <tr>\n",
       "      <th>0</th>\n",
       "      <td>1</td>\n",
       "      <td>Edgar's Lunch (1998)</td>\n",
       "      <td>L.R. Brane loves his life - his car, his apar...</td>\n",
       "    </tr>\n",
       "    <tr>\n",
       "      <th>1</th>\n",
       "      <td>2</td>\n",
       "      <td>La guerra de papá (1977)</td>\n",
       "      <td>Spain, March 1964: Quico is a very naughty ch...</td>\n",
       "    </tr>\n",
       "    <tr>\n",
       "      <th>2</th>\n",
       "      <td>3</td>\n",
       "      <td>Off the Beaten Track (2010)</td>\n",
       "      <td>One year in the life of Albin and his family ...</td>\n",
       "    </tr>\n",
       "    <tr>\n",
       "      <th>3</th>\n",
       "      <td>4</td>\n",
       "      <td>Meu Amigo Hindu (2015)</td>\n",
       "      <td>His father has died, he hasn't spoken with hi...</td>\n",
       "    </tr>\n",
       "    <tr>\n",
       "      <th>4</th>\n",
       "      <td>5</td>\n",
       "      <td>Er nu zhai (1955)</td>\n",
       "      <td>Before he was known internationally as a mart...</td>\n",
       "    </tr>\n",
       "    <tr>\n",
       "      <th>5</th>\n",
       "      <td>6</td>\n",
       "      <td>Riddle Room (2016)</td>\n",
       "      <td>Emily Burns is being held captive in a room w...</td>\n",
       "    </tr>\n",
       "    <tr>\n",
       "      <th>6</th>\n",
       "      <td>7</td>\n",
       "      <td>L'amica (1969)</td>\n",
       "      <td>The beautiful but neglected wife of a brillia...</td>\n",
       "    </tr>\n",
       "    <tr>\n",
       "      <th>7</th>\n",
       "      <td>8</td>\n",
       "      <td>Ina Mina Dika (1989)</td>\n",
       "      <td>Vasu Inamdar (Ina) suffers from a disorder wh...</td>\n",
       "    </tr>\n",
       "    <tr>\n",
       "      <th>8</th>\n",
       "      <td>9</td>\n",
       "      <td>Equinox Special: Britain's Tornados (2005)</td>\n",
       "      <td>An insight into the tornados that hit Kensal ...</td>\n",
       "    </tr>\n",
       "    <tr>\n",
       "      <th>9</th>\n",
       "      <td>10</td>\n",
       "      <td>Press (2011)</td>\n",
       "      <td>Press is a story of young people overwhelmed ...</td>\n",
       "    </tr>\n",
       "  </tbody>\n",
       "</table>\n",
       "</div>"
      ],
      "text/plain": [
       "   Title                                         Genre  \\\n",
       "0      1                         Edgar's Lunch (1998)    \n",
       "1      2                     La guerra de papá (1977)    \n",
       "2      3                  Off the Beaten Track (2010)    \n",
       "3      4                       Meu Amigo Hindu (2015)    \n",
       "4      5                            Er nu zhai (1955)    \n",
       "5      6                           Riddle Room (2016)    \n",
       "6      7                               L'amica (1969)    \n",
       "7      8                         Ina Mina Dika (1989)    \n",
       "8      9   Equinox Special: Britain's Tornados (2005)    \n",
       "9     10                                 Press (2011)    \n",
       "\n",
       "                                         Description  \n",
       "0   L.R. Brane loves his life - his car, his apar...  \n",
       "1   Spain, March 1964: Quico is a very naughty ch...  \n",
       "2   One year in the life of Albin and his family ...  \n",
       "3   His father has died, he hasn't spoken with hi...  \n",
       "4   Before he was known internationally as a mart...  \n",
       "5   Emily Burns is being held captive in a room w...  \n",
       "6   The beautiful but neglected wife of a brillia...  \n",
       "7   Vasu Inamdar (Ina) suffers from a disorder wh...  \n",
       "8   An insight into the tornados that hit Kensal ...  \n",
       "9   Press is a story of young people overwhelmed ...  "
      ]
     },
     "execution_count": 22,
     "metadata": {},
     "output_type": "execute_result"
    }
   ],
   "source": [
    "#loading test data\n",
    "data_test=pd.read_csv('./Genre Classification Dataset/test_data.txt',sep=':::',names=['Title', 'Genre', 'Description'])\n",
    "data_test.head(10)"
   ]
  },
  {
   "cell_type": "code",
   "execution_count": 23,
   "id": "f6f85f16",
   "metadata": {},
   "outputs": [
    {
     "data": {
      "text/html": [
       "<div>\n",
       "<style scoped>\n",
       "    .dataframe tbody tr th:only-of-type {\n",
       "        vertical-align: middle;\n",
       "    }\n",
       "\n",
       "    .dataframe tbody tr th {\n",
       "        vertical-align: top;\n",
       "    }\n",
       "\n",
       "    .dataframe thead th {\n",
       "        text-align: right;\n",
       "    }\n",
       "</style>\n",
       "<table border=\"1\" class=\"dataframe\">\n",
       "  <thead>\n",
       "    <tr style=\"text-align: right;\">\n",
       "      <th></th>\n",
       "      <th>Title</th>\n",
       "      <th>Genre</th>\n",
       "      <th>Description</th>\n",
       "      <th>Clean_Desc</th>\n",
       "    </tr>\n",
       "  </thead>\n",
       "  <tbody>\n",
       "    <tr>\n",
       "      <th>0</th>\n",
       "      <td>1</td>\n",
       "      <td>Edgar's Lunch (1998)</td>\n",
       "      <td>L.R. Brane loves his life - his car, his apar...</td>\n",
       "      <td>LR Brane loves life car apartment job especial...</td>\n",
       "    </tr>\n",
       "    <tr>\n",
       "      <th>1</th>\n",
       "      <td>2</td>\n",
       "      <td>La guerra de papá (1977)</td>\n",
       "      <td>Spain, March 1964: Quico is a very naughty ch...</td>\n",
       "      <td>Spain March Quico naughty child belonging weal...</td>\n",
       "    </tr>\n",
       "    <tr>\n",
       "      <th>2</th>\n",
       "      <td>3</td>\n",
       "      <td>Off the Beaten Track (2010)</td>\n",
       "      <td>One year in the life of Albin and his family ...</td>\n",
       "      <td>year life Albin family shepherds North Transyl...</td>\n",
       "    </tr>\n",
       "    <tr>\n",
       "      <th>3</th>\n",
       "      <td>4</td>\n",
       "      <td>Meu Amigo Hindu (2015)</td>\n",
       "      <td>His father has died, he hasn't spoken with hi...</td>\n",
       "      <td>father died spoken brother years cancer Diego ...</td>\n",
       "    </tr>\n",
       "    <tr>\n",
       "      <th>4</th>\n",
       "      <td>5</td>\n",
       "      <td>Er nu zhai (1955)</td>\n",
       "      <td>Before he was known internationally as a mart...</td>\n",
       "      <td>known internationally martial arts superstar B...</td>\n",
       "    </tr>\n",
       "  </tbody>\n",
       "</table>\n",
       "</div>"
      ],
      "text/plain": [
       "   Title                          Genre  \\\n",
       "0      1          Edgar's Lunch (1998)    \n",
       "1      2      La guerra de papá (1977)    \n",
       "2      3   Off the Beaten Track (2010)    \n",
       "3      4        Meu Amigo Hindu (2015)    \n",
       "4      5             Er nu zhai (1955)    \n",
       "\n",
       "                                         Description  \\\n",
       "0   L.R. Brane loves his life - his car, his apar...   \n",
       "1   Spain, March 1964: Quico is a very naughty ch...   \n",
       "2   One year in the life of Albin and his family ...   \n",
       "3   His father has died, he hasn't spoken with hi...   \n",
       "4   Before he was known internationally as a mart...   \n",
       "\n",
       "                                          Clean_Desc  \n",
       "0  LR Brane loves life car apartment job especial...  \n",
       "1  Spain March Quico naughty child belonging weal...  \n",
       "2  year life Albin family shepherds North Transyl...  \n",
       "3  father died spoken brother years cancer Diego ...  \n",
       "4  known internationally martial arts superstar B...  "
      ]
     },
     "execution_count": 23,
     "metadata": {},
     "output_type": "execute_result"
    }
   ],
   "source": [
    "#cleaning \n",
    "data_test['Clean_Desc'] = data_test['Description'].apply(clean_description)\n",
    "data_test.head()"
   ]
  },
  {
   "cell_type": "code",
   "execution_count": 24,
   "id": "8bc36e70",
   "metadata": {},
   "outputs": [
    {
     "name": "stdout",
     "output_type": "stream",
     "text": [
      "(54200, 146872)\n"
     ]
    }
   ],
   "source": [
    "# Transform the test data\n",
    "x_test =tfidf_vectorizer.transform(data_test['Clean_Desc'])\n",
    "print(x_test.shape)"
   ]
  },
  {
   "cell_type": "markdown",
   "id": "8a990de1",
   "metadata": {},
   "source": [
    "###getting actual solution"
   ]
  },
  {
   "cell_type": "code",
   "execution_count": 26,
   "id": "357b131e",
   "metadata": {},
   "outputs": [
    {
     "name": "stderr",
     "output_type": "stream",
     "text": [
      "C:\\Users\\bibek\\AppData\\Local\\Temp\\ipykernel_14448\\2754593402.py:2: ParserWarning: Falling back to the 'python' engine because the 'c' engine does not support regex separators (separators > 1 char and different from '\\s+' are interpreted as regex); you can avoid this warning by specifying engine='python'.\n",
      "  data_actual=pd.read_csv('./Genre Classification Dataset/test_data_solution.txt',sep=':::',names=['Title', 'Genre', 'Description'])\n"
     ]
    },
    {
     "data": {
      "text/html": [
       "<div>\n",
       "<style scoped>\n",
       "    .dataframe tbody tr th:only-of-type {\n",
       "        vertical-align: middle;\n",
       "    }\n",
       "\n",
       "    .dataframe tbody tr th {\n",
       "        vertical-align: top;\n",
       "    }\n",
       "\n",
       "    .dataframe thead th {\n",
       "        text-align: right;\n",
       "    }\n",
       "</style>\n",
       "<table border=\"1\" class=\"dataframe\">\n",
       "  <thead>\n",
       "    <tr style=\"text-align: right;\">\n",
       "      <th></th>\n",
       "      <th>Title</th>\n",
       "      <th>Genre</th>\n",
       "      <th>Description</th>\n",
       "    </tr>\n",
       "  </thead>\n",
       "  <tbody>\n",
       "    <tr>\n",
       "      <th>1</th>\n",
       "      <td>Edgar's Lunch (1998)</td>\n",
       "      <td>thriller</td>\n",
       "      <td>L.R. Brane loves his life - his car, his apar...</td>\n",
       "    </tr>\n",
       "    <tr>\n",
       "      <th>2</th>\n",
       "      <td>La guerra de papá (1977)</td>\n",
       "      <td>comedy</td>\n",
       "      <td>Spain, March 1964: Quico is a very naughty ch...</td>\n",
       "    </tr>\n",
       "    <tr>\n",
       "      <th>3</th>\n",
       "      <td>Off the Beaten Track (2010)</td>\n",
       "      <td>documentary</td>\n",
       "      <td>One year in the life of Albin and his family ...</td>\n",
       "    </tr>\n",
       "    <tr>\n",
       "      <th>4</th>\n",
       "      <td>Meu Amigo Hindu (2015)</td>\n",
       "      <td>drama</td>\n",
       "      <td>His father has died, he hasn't spoken with hi...</td>\n",
       "    </tr>\n",
       "    <tr>\n",
       "      <th>5</th>\n",
       "      <td>Er nu zhai (1955)</td>\n",
       "      <td>drama</td>\n",
       "      <td>Before he was known internationally as a mart...</td>\n",
       "    </tr>\n",
       "    <tr>\n",
       "      <th>6</th>\n",
       "      <td>Riddle Room (2016)</td>\n",
       "      <td>horror</td>\n",
       "      <td>Emily Burns is being held captive in a room w...</td>\n",
       "    </tr>\n",
       "    <tr>\n",
       "      <th>7</th>\n",
       "      <td>L'amica (1969)</td>\n",
       "      <td>drama</td>\n",
       "      <td>The beautiful but neglected wife of a brillia...</td>\n",
       "    </tr>\n",
       "    <tr>\n",
       "      <th>8</th>\n",
       "      <td>Ina Mina Dika (1989)</td>\n",
       "      <td>comedy</td>\n",
       "      <td>Vasu Inamdar (Ina) suffers from a disorder wh...</td>\n",
       "    </tr>\n",
       "    <tr>\n",
       "      <th>9</th>\n",
       "      <td>Equinox Special: Britain's Tornados (2005)</td>\n",
       "      <td>documentary</td>\n",
       "      <td>An insight into the tornados that hit Kensal ...</td>\n",
       "    </tr>\n",
       "    <tr>\n",
       "      <th>10</th>\n",
       "      <td>Press (2011)</td>\n",
       "      <td>drama</td>\n",
       "      <td>Press is a story of young people overwhelmed ...</td>\n",
       "    </tr>\n",
       "  </tbody>\n",
       "</table>\n",
       "</div>"
      ],
      "text/plain": [
       "                                           Title          Genre  \\\n",
       "1                          Edgar's Lunch (1998)       thriller    \n",
       "2                      La guerra de papá (1977)         comedy    \n",
       "3                   Off the Beaten Track (2010)    documentary    \n",
       "4                        Meu Amigo Hindu (2015)          drama    \n",
       "5                             Er nu zhai (1955)          drama    \n",
       "6                            Riddle Room (2016)         horror    \n",
       "7                                L'amica (1969)          drama    \n",
       "8                          Ina Mina Dika (1989)         comedy    \n",
       "9    Equinox Special: Britain's Tornados (2005)    documentary    \n",
       "10                                 Press (2011)          drama    \n",
       "\n",
       "                                          Description  \n",
       "1    L.R. Brane loves his life - his car, his apar...  \n",
       "2    Spain, March 1964: Quico is a very naughty ch...  \n",
       "3    One year in the life of Albin and his family ...  \n",
       "4    His father has died, he hasn't spoken with hi...  \n",
       "5    Before he was known internationally as a mart...  \n",
       "6    Emily Burns is being held captive in a room w...  \n",
       "7    The beautiful but neglected wife of a brillia...  \n",
       "8    Vasu Inamdar (Ina) suffers from a disorder wh...  \n",
       "9    An insight into the tornados that hit Kensal ...  \n",
       "10   Press is a story of young people overwhelmed ...  "
      ]
     },
     "execution_count": 26,
     "metadata": {},
     "output_type": "execute_result"
    }
   ],
   "source": [
    "#solution\n",
    "data_actual=pd.read_csv('./Genre Classification Dataset/test_data_solution.txt',sep=':::',names=['Title', 'Genre', 'Description'])\n",
    "data_actual.head(10)"
   ]
  },
  {
   "cell_type": "markdown",
   "id": "49703a59",
   "metadata": {},
   "source": [
    "# Naive bayes Classifier "
   ]
  },
  {
   "cell_type": "code",
   "execution_count": 27,
   "id": "637c337d",
   "metadata": {},
   "outputs": [
    {
     "data": {
      "text/html": [
       "<style>#sk-container-id-1 {color: black;}#sk-container-id-1 pre{padding: 0;}#sk-container-id-1 div.sk-toggleable {background-color: white;}#sk-container-id-1 label.sk-toggleable__label {cursor: pointer;display: block;width: 100%;margin-bottom: 0;padding: 0.3em;box-sizing: border-box;text-align: center;}#sk-container-id-1 label.sk-toggleable__label-arrow:before {content: \"▸\";float: left;margin-right: 0.25em;color: #696969;}#sk-container-id-1 label.sk-toggleable__label-arrow:hover:before {color: black;}#sk-container-id-1 div.sk-estimator:hover label.sk-toggleable__label-arrow:before {color: black;}#sk-container-id-1 div.sk-toggleable__content {max-height: 0;max-width: 0;overflow: hidden;text-align: left;background-color: #f0f8ff;}#sk-container-id-1 div.sk-toggleable__content pre {margin: 0.2em;color: black;border-radius: 0.25em;background-color: #f0f8ff;}#sk-container-id-1 input.sk-toggleable__control:checked~div.sk-toggleable__content {max-height: 200px;max-width: 100%;overflow: auto;}#sk-container-id-1 input.sk-toggleable__control:checked~label.sk-toggleable__label-arrow:before {content: \"▾\";}#sk-container-id-1 div.sk-estimator input.sk-toggleable__control:checked~label.sk-toggleable__label {background-color: #d4ebff;}#sk-container-id-1 div.sk-label input.sk-toggleable__control:checked~label.sk-toggleable__label {background-color: #d4ebff;}#sk-container-id-1 input.sk-hidden--visually {border: 0;clip: rect(1px 1px 1px 1px);clip: rect(1px, 1px, 1px, 1px);height: 1px;margin: -1px;overflow: hidden;padding: 0;position: absolute;width: 1px;}#sk-container-id-1 div.sk-estimator {font-family: monospace;background-color: #f0f8ff;border: 1px dotted black;border-radius: 0.25em;box-sizing: border-box;margin-bottom: 0.5em;}#sk-container-id-1 div.sk-estimator:hover {background-color: #d4ebff;}#sk-container-id-1 div.sk-parallel-item::after {content: \"\";width: 100%;border-bottom: 1px solid gray;flex-grow: 1;}#sk-container-id-1 div.sk-label:hover label.sk-toggleable__label {background-color: #d4ebff;}#sk-container-id-1 div.sk-serial::before {content: \"\";position: absolute;border-left: 1px solid gray;box-sizing: border-box;top: 0;bottom: 0;left: 50%;z-index: 0;}#sk-container-id-1 div.sk-serial {display: flex;flex-direction: column;align-items: center;background-color: white;padding-right: 0.2em;padding-left: 0.2em;position: relative;}#sk-container-id-1 div.sk-item {position: relative;z-index: 1;}#sk-container-id-1 div.sk-parallel {display: flex;align-items: stretch;justify-content: center;background-color: white;position: relative;}#sk-container-id-1 div.sk-item::before, #sk-container-id-1 div.sk-parallel-item::before {content: \"\";position: absolute;border-left: 1px solid gray;box-sizing: border-box;top: 0;bottom: 0;left: 50%;z-index: -1;}#sk-container-id-1 div.sk-parallel-item {display: flex;flex-direction: column;z-index: 1;position: relative;background-color: white;}#sk-container-id-1 div.sk-parallel-item:first-child::after {align-self: flex-end;width: 50%;}#sk-container-id-1 div.sk-parallel-item:last-child::after {align-self: flex-start;width: 50%;}#sk-container-id-1 div.sk-parallel-item:only-child::after {width: 0;}#sk-container-id-1 div.sk-dashed-wrapped {border: 1px dashed gray;margin: 0 0.4em 0.5em 0.4em;box-sizing: border-box;padding-bottom: 0.4em;background-color: white;}#sk-container-id-1 div.sk-label label {font-family: monospace;font-weight: bold;display: inline-block;line-height: 1.2em;}#sk-container-id-1 div.sk-label-container {text-align: center;}#sk-container-id-1 div.sk-container {/* jupyter's `normalize.less` sets `[hidden] { display: none; }` but bootstrap.min.css set `[hidden] { display: none !important; }` so we also need the `!important` here to be able to override the default hidden behavior on the sphinx rendered scikit-learn.org. See: https://github.com/scikit-learn/scikit-learn/issues/21755 */display: inline-block !important;position: relative;}#sk-container-id-1 div.sk-text-repr-fallback {display: none;}</style><div id=\"sk-container-id-1\" class=\"sk-top-container\"><div class=\"sk-text-repr-fallback\"><pre>MultinomialNB(alpha=0.01)</pre><b>In a Jupyter environment, please rerun this cell to show the HTML representation or trust the notebook. <br />On GitHub, the HTML representation is unable to render, please try loading this page with nbviewer.org.</b></div><div class=\"sk-container\" hidden><div class=\"sk-item\"><div class=\"sk-estimator sk-toggleable\"><input class=\"sk-toggleable__control sk-hidden--visually\" id=\"sk-estimator-id-1\" type=\"checkbox\" checked><label for=\"sk-estimator-id-1\" class=\"sk-toggleable__label sk-toggleable__label-arrow\">MultinomialNB</label><div class=\"sk-toggleable__content\"><pre>MultinomialNB(alpha=0.01)</pre></div></div></div></div></div>"
      ],
      "text/plain": [
       "MultinomialNB(alpha=0.01)"
      ]
     },
     "execution_count": 27,
     "metadata": {},
     "output_type": "execute_result"
    }
   ],
   "source": [
    "modelnb=MultinomialNB(alpha=0.01)\n",
    "\n",
    "#fit\n",
    "modelnb.fit(x_train,y_train)"
   ]
  },
  {
   "cell_type": "markdown",
   "id": "e9ea12e6",
   "metadata": {},
   "source": [
    "#test"
   ]
  },
  {
   "cell_type": "code",
   "execution_count": 28,
   "id": "90fda762",
   "metadata": {},
   "outputs": [],
   "source": [
    "#let's test the model\n",
    "y_predicted=modelnb.predict(x_test)"
   ]
  },
  {
   "cell_type": "code",
   "execution_count": 29,
   "id": "31a8794d",
   "metadata": {},
   "outputs": [
    {
     "name": "stdout",
     "output_type": "stream",
     "text": [
      "Accuracy : 0.5431180811808118\n",
      "               precision    recall  f1-score   support\n",
      "\n",
      "      action        0.55      0.20      0.30      1314\n",
      "       adult        0.62      0.22      0.32       590\n",
      "   adventure        0.67      0.14      0.23       775\n",
      "   animation        0.65      0.04      0.08       498\n",
      "   biography        0.00      0.00      1.00       264\n",
      "      comedy        0.51      0.48      0.49      7446\n",
      "       crime        0.57      0.02      0.03       505\n",
      " documentary        0.59      0.85      0.70     13096\n",
      "       drama        0.49      0.77      0.60     13612\n",
      "      family        0.69      0.07      0.12       783\n",
      "     fantasy        0.33      0.03      0.05       322\n",
      "   game-show        0.97      0.47      0.63       193\n",
      "     history        0.00      0.00      1.00       243\n",
      "      horror        0.67      0.46      0.55      2204\n",
      "       music        0.67      0.35      0.46       731\n",
      "     musical        0.58      0.03      0.05       276\n",
      "     mystery        0.50      0.01      0.01       318\n",
      "        news        1.00      0.01      0.02       181\n",
      "  reality-tv        0.57      0.10      0.17       883\n",
      "     romance        0.37      0.03      0.06       672\n",
      "      sci-fi        0.66      0.16      0.25       646\n",
      "       short        0.47      0.21      0.29      5072\n",
      "       sport        0.77      0.33      0.47       431\n",
      "   talk-show        0.43      0.06      0.10       391\n",
      "    thriller        0.32      0.05      0.09      1590\n",
      "         war        0.80      0.03      0.06       132\n",
      "     western        0.94      0.77      0.85      1032\n",
      "\n",
      "     accuracy                           0.54     54200\n",
      "    macro avg       0.57      0.22      0.33     54200\n",
      " weighted avg       0.54      0.54      0.50     54200\n",
      "\n"
     ]
    }
   ],
   "source": [
    "#accuracy\n",
    "y_actual=data_actual[\"Genre\"]\n",
    "print('Accuracy :',accuracy_score(y_actual,y_predicted))\n",
    "print(classification_report(y_actual, y_predicted,  zero_division=1))"
   ]
  },
  {
   "cell_type": "markdown",
   "id": "fecc23d7",
   "metadata": {},
   "source": [
    "Hence Multinomial Naive Bayes predicts the Genre of movie with 54.31% accuracy."
   ]
  },
  {
   "cell_type": "code",
   "execution_count": 30,
   "id": "2ed8f489",
   "metadata": {},
   "outputs": [
    {
     "data": {
      "text/html": [
       "<div>\n",
       "<style scoped>\n",
       "    .dataframe tbody tr th:only-of-type {\n",
       "        vertical-align: middle;\n",
       "    }\n",
       "\n",
       "    .dataframe tbody tr th {\n",
       "        vertical-align: top;\n",
       "    }\n",
       "\n",
       "    .dataframe thead th {\n",
       "        text-align: right;\n",
       "    }\n",
       "</style>\n",
       "<table border=\"1\" class=\"dataframe\">\n",
       "  <thead>\n",
       "    <tr style=\"text-align: right;\">\n",
       "      <th></th>\n",
       "      <th>Title</th>\n",
       "      <th>Genre</th>\n",
       "      <th>Description</th>\n",
       "      <th>Predicted Genre</th>\n",
       "    </tr>\n",
       "  </thead>\n",
       "  <tbody>\n",
       "    <tr>\n",
       "      <th>1</th>\n",
       "      <td>Edgar's Lunch (1998)</td>\n",
       "      <td>thriller</td>\n",
       "      <td>L.R. Brane loves his life - his car, his apar...</td>\n",
       "      <td>comedy</td>\n",
       "    </tr>\n",
       "    <tr>\n",
       "      <th>2</th>\n",
       "      <td>La guerra de papá (1977)</td>\n",
       "      <td>comedy</td>\n",
       "      <td>Spain, March 1964: Quico is a very naughty ch...</td>\n",
       "      <td>drama</td>\n",
       "    </tr>\n",
       "    <tr>\n",
       "      <th>3</th>\n",
       "      <td>Off the Beaten Track (2010)</td>\n",
       "      <td>documentary</td>\n",
       "      <td>One year in the life of Albin and his family ...</td>\n",
       "      <td>documentary</td>\n",
       "    </tr>\n",
       "    <tr>\n",
       "      <th>4</th>\n",
       "      <td>Meu Amigo Hindu (2015)</td>\n",
       "      <td>drama</td>\n",
       "      <td>His father has died, he hasn't spoken with hi...</td>\n",
       "      <td>drama</td>\n",
       "    </tr>\n",
       "    <tr>\n",
       "      <th>5</th>\n",
       "      <td>Er nu zhai (1955)</td>\n",
       "      <td>drama</td>\n",
       "      <td>Before he was known internationally as a mart...</td>\n",
       "      <td>drama</td>\n",
       "    </tr>\n",
       "    <tr>\n",
       "      <th>6</th>\n",
       "      <td>Riddle Room (2016)</td>\n",
       "      <td>horror</td>\n",
       "      <td>Emily Burns is being held captive in a room w...</td>\n",
       "      <td>drama</td>\n",
       "    </tr>\n",
       "    <tr>\n",
       "      <th>7</th>\n",
       "      <td>L'amica (1969)</td>\n",
       "      <td>drama</td>\n",
       "      <td>The beautiful but neglected wife of a brillia...</td>\n",
       "      <td>drama</td>\n",
       "    </tr>\n",
       "    <tr>\n",
       "      <th>8</th>\n",
       "      <td>Ina Mina Dika (1989)</td>\n",
       "      <td>comedy</td>\n",
       "      <td>Vasu Inamdar (Ina) suffers from a disorder wh...</td>\n",
       "      <td>comedy</td>\n",
       "    </tr>\n",
       "    <tr>\n",
       "      <th>9</th>\n",
       "      <td>Equinox Special: Britain's Tornados (2005)</td>\n",
       "      <td>documentary</td>\n",
       "      <td>An insight into the tornados that hit Kensal ...</td>\n",
       "      <td>documentary</td>\n",
       "    </tr>\n",
       "    <tr>\n",
       "      <th>10</th>\n",
       "      <td>Press (2011)</td>\n",
       "      <td>drama</td>\n",
       "      <td>Press is a story of young people overwhelmed ...</td>\n",
       "      <td>documentary</td>\n",
       "    </tr>\n",
       "  </tbody>\n",
       "</table>\n",
       "</div>"
      ],
      "text/plain": [
       "                                           Title          Genre  \\\n",
       "1                          Edgar's Lunch (1998)       thriller    \n",
       "2                      La guerra de papá (1977)         comedy    \n",
       "3                   Off the Beaten Track (2010)    documentary    \n",
       "4                        Meu Amigo Hindu (2015)          drama    \n",
       "5                             Er nu zhai (1955)          drama    \n",
       "6                            Riddle Room (2016)         horror    \n",
       "7                                L'amica (1969)          drama    \n",
       "8                          Ina Mina Dika (1989)         comedy    \n",
       "9    Equinox Special: Britain's Tornados (2005)    documentary    \n",
       "10                                 Press (2011)          drama    \n",
       "\n",
       "                                          Description Predicted Genre  \n",
       "1    L.R. Brane loves his life - his car, his apar...         comedy   \n",
       "2    Spain, March 1964: Quico is a very naughty ch...          drama   \n",
       "3    One year in the life of Albin and his family ...    documentary   \n",
       "4    His father has died, he hasn't spoken with hi...          drama   \n",
       "5    Before he was known internationally as a mart...          drama   \n",
       "6    Emily Burns is being held captive in a room w...          drama   \n",
       "7    The beautiful but neglected wife of a brillia...          drama   \n",
       "8    Vasu Inamdar (Ina) suffers from a disorder wh...         comedy   \n",
       "9    An insight into the tornados that hit Kensal ...    documentary   \n",
       "10   Press is a story of young people overwhelmed ...    documentary   "
      ]
     },
     "execution_count": 30,
     "metadata": {},
     "output_type": "execute_result"
    }
   ],
   "source": [
    "#Prediction vs Actuaal\n",
    "data_actual['Predicted Genre']=y_predicted\n",
    "data_actual.head(10)"
   ]
  },
  {
   "cell_type": "code",
   "execution_count": null,
   "id": "4437ee89",
   "metadata": {},
   "outputs": [],
   "source": []
  },
  {
   "cell_type": "code",
   "execution_count": null,
   "id": "3fa294b1",
   "metadata": {},
   "outputs": [],
   "source": []
  }
 ],
 "metadata": {
  "kernelspec": {
   "display_name": "Python 3 (ipykernel)",
   "language": "python",
   "name": "python3"
  },
  "language_info": {
   "codemirror_mode": {
    "name": "ipython",
    "version": 3
   },
   "file_extension": ".py",
   "mimetype": "text/x-python",
   "name": "python",
   "nbconvert_exporter": "python",
   "pygments_lexer": "ipython3",
   "version": "3.11.5"
  }
 },
 "nbformat": 4,
 "nbformat_minor": 5
}
